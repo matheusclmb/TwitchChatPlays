{
 "cells": [
  {
   "cell_type": "code",
   "execution_count": null,
   "id": "26ca2061",
   "metadata": {},
   "outputs": [],
   "source": [
    "# IMPORT LIBRARIES\n",
    "import socket\n",
    "import pydirectinput"
   ]
  },
  {
   "cell_type": "code",
   "execution_count": null,
   "id": "9e282ce6",
   "metadata": {},
   "outputs": [],
   "source": [
    "# GLOBALS\n",
    "SERVER = \"irc.chat.twitch.tv\"\n",
    "PORT = 6667\n",
    "NICKNAME = \"your nickname\"\n",
    "AUTH_TOKEN = \"your auth token\"\n",
    "CHANNEL = \"#channelname\""
   ]
  },
  {
   "cell_type": "code",
   "execution_count": null,
   "id": "8f56c94d",
   "metadata": {},
   "outputs": [],
   "source": [
    "# SOCKET SETUP\n",
    "sock = socket.socket()\n",
    "sock.connect((SERVER, PORT))\n",
    "sock.send(f\"PASS {AUTH_TOKEN}\\nNICK {NICKNAME}\\nJOIN {CHANNEL}\\n\".encode(\"utf-8\"))"
   ]
  },
  {
   "cell_type": "code",
   "execution_count": null,
   "id": "34c2ce3e",
   "metadata": {},
   "outputs": [],
   "source": [
    "# KEYS NEEDED IN-GAME (DICTIONARY)\n",
    "keys = [\"q\", \"w\", \"e\", \"r\", \"d\", \"f\"]"
   ]
  },
  {
   "cell_type": "code",
   "execution_count": null,
   "id": "05c95fde",
   "metadata": {},
   "outputs": [],
   "source": [
    "# MAIN FUNCTION\n",
    "def check_response():\n",
    "    response = sock.recv(1024).decode(\"utf-8\")\n",
    "    print(response)\n",
    "    message = response.split(\":\")[2].split(\"\\r\\n\")[0]\n",
    "    message = message.lower()\n",
    "    if message in keys:\n",
    "        pydirectinput.press(message)"
   ]
  },
  {
   "cell_type": "code",
   "execution_count": null,
   "id": "4f3d23e5",
   "metadata": {},
   "outputs": [],
   "source": [
    "# SEND MESSAGE AS CHANNEL FUNCTION\n",
    "def send_message(socket, message):\n",
    "    msg = f\"PRIVMSG {CHANNEL} :{message}\"\n",
    "    socket.send(f\"{msg}\\n\".encode(\"utf-8\"))"
   ]
  },
  {
   "cell_type": "code",
   "execution_count": null,
   "id": "4d93f3c2",
   "metadata": {},
   "outputs": [],
   "source": [
    "# # SEND MESSAGE AS CHANNEL\n",
    "send_message(sock, \"The bot has joined\")\n",
    "send_message(sock, \"here's how it works: Q W E R D F\")"
   ]
  },
  {
   "cell_type": "code",
   "execution_count": null,
   "id": "2d607ef4",
   "metadata": {},
   "outputs": [],
   "source": [
    "# LOOP TO KEEP CODE RUNNING\n",
    "while True:\n",
    "    check_response()"
   ]
  }
 ],
 "metadata": {
  "kernelspec": {
   "display_name": "Python 3 (ipykernel)",
   "language": "python",
   "name": "python3"
  },
  "language_info": {
   "codemirror_mode": {
    "name": "ipython",
    "version": 3
   },
   "file_extension": ".py",
   "mimetype": "text/x-python",
   "name": "python",
   "nbconvert_exporter": "python",
   "pygments_lexer": "ipython3",
   "version": "3.10.4"
  }
 },
 "nbformat": 4,
 "nbformat_minor": 5
}
